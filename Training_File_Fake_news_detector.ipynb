{
  "nbformat": 4,
  "nbformat_minor": 0,
  "metadata": {
    "colab": {
      "provenance": [],
      "include_colab_link": true
    },
    "kernelspec": {
      "name": "python3",
      "display_name": "Python 3"
    },
    "language_info": {
      "name": "python"
    },
    "gpuClass": "standard"
  },
  "cells": [
    {
      "cell_type": "markdown",
      "metadata": {
        "id": "view-in-github",
        "colab_type": "text"
      },
      "source": [
        "<a href=\"https://colab.research.google.com/github/Yogesh914/fakenews/blob/main/Training_File_Fake_news_detector.ipynb\" target=\"_parent\"><img src=\"https://colab.research.google.com/assets/colab-badge.svg\" alt=\"Open In Colab\"/></a>"
      ]
    },
    {
      "cell_type": "code",
      "execution_count": null,
      "metadata": {
        "id": "-cmwFWZ91H0a",
        "colab": {
          "base_uri": "https://localhost:8080/"
        },
        "outputId": "d7c956d2-dc57-42a4-d7b9-4a8fda0fdda0"
      },
      "outputs": [
        {
          "output_type": "stream",
          "name": "stdout",
          "text": [
            "Looking in indexes: https://pypi.org/simple, https://us-python.pkg.dev/colab-wheels/public/simple/\n",
            "Requirement already satisfied: kaggle in /usr/local/lib/python3.8/dist-packages (1.5.12)\n",
            "Requirement already satisfied: requests in /usr/local/lib/python3.8/dist-packages (from kaggle) (2.25.1)\n",
            "Requirement already satisfied: urllib3 in /usr/local/lib/python3.8/dist-packages (from kaggle) (1.24.3)\n",
            "Requirement already satisfied: certifi in /usr/local/lib/python3.8/dist-packages (from kaggle) (2022.12.7)\n",
            "Requirement already satisfied: six>=1.10 in /usr/local/lib/python3.8/dist-packages (from kaggle) (1.15.0)\n",
            "Requirement already satisfied: python-dateutil in /usr/local/lib/python3.8/dist-packages (from kaggle) (2.8.2)\n",
            "Requirement already satisfied: tqdm in /usr/local/lib/python3.8/dist-packages (from kaggle) (4.64.1)\n",
            "Requirement already satisfied: python-slugify in /usr/local/lib/python3.8/dist-packages (from kaggle) (8.0.0)\n",
            "Requirement already satisfied: text-unidecode>=1.3 in /usr/local/lib/python3.8/dist-packages (from python-slugify->kaggle) (1.3)\n",
            "Requirement already satisfied: idna<3,>=2.5 in /usr/local/lib/python3.8/dist-packages (from requests->kaggle) (2.10)\n",
            "Requirement already satisfied: chardet<5,>=3.0.2 in /usr/local/lib/python3.8/dist-packages (from requests->kaggle) (4.0.0)\n"
          ]
        }
      ],
      "source": [
        "! pip install kaggle"
      ]
    },
    {
      "cell_type": "code",
      "source": [
        "from google.colab import drive\n",
        "drive.mount('/content/gdrive')"
      ],
      "metadata": {
        "id": "IzWN9tti1utR",
        "colab": {
          "base_uri": "https://localhost:8080/"
        },
        "outputId": "55b25232-ad0c-4560-d80f-cc0360464d01"
      },
      "execution_count": null,
      "outputs": [
        {
          "output_type": "stream",
          "name": "stdout",
          "text": [
            "Mounted at /content/gdrive\n"
          ]
        }
      ]
    },
    {
      "cell_type": "code",
      "source": [
        "import os\n",
        "os.environ['KAGGLE_CONFIG_DIR'] = \"/content/gdrive/My Drive/Kaggle\""
      ],
      "metadata": {
        "id": "wI63sF2618AM"
      },
      "execution_count": null,
      "outputs": []
    },
    {
      "cell_type": "code",
      "source": [
        "%cd /content/gdrive/My Drive/Kaggle"
      ],
      "metadata": {
        "id": "MX51Y6ux2GAi",
        "colab": {
          "base_uri": "https://localhost:8080/"
        },
        "outputId": "f99e5e95-647d-4f3e-86cf-3c15f5672ef2"
      },
      "execution_count": null,
      "outputs": [
        {
          "output_type": "stream",
          "name": "stdout",
          "text": [
            "/content/gdrive/My Drive/Kaggle\n"
          ]
        }
      ]
    },
    {
      "cell_type": "code",
      "source": [
        "!kaggle datasets download -d clmentbisaillon/fake-and-real-news-dataset"
      ],
      "metadata": {
        "id": "n-YlMVJx2N9V",
        "colab": {
          "base_uri": "https://localhost:8080/"
        },
        "outputId": "d50b8d50-264d-4bc1-9e90-f75c8e7b4b6f"
      },
      "execution_count": null,
      "outputs": [
        {
          "output_type": "stream",
          "name": "stdout",
          "text": [
            "fake-and-real-news-dataset.zip: Skipping, found more recently modified local copy (use --force to force download)\n"
          ]
        }
      ]
    },
    {
      "cell_type": "code",
      "source": [
        "!unzip \\*.zip && rm *.zip."
      ],
      "metadata": {
        "id": "6NYweE9B2d_G",
        "colab": {
          "base_uri": "https://localhost:8080/"
        },
        "outputId": "f6ac293d-b98a-4a3e-a956-c1ae26c0baae"
      },
      "execution_count": null,
      "outputs": [
        {
          "output_type": "stream",
          "name": "stdout",
          "text": [
            "Archive:  fake-and-real-news-dataset.zip\n",
            "replace Fake.csv? [y]es, [n]o, [A]ll, [N]one, [r]ename: n\n",
            "replace True.csv? [y]es, [n]o, [A]ll, [N]one, [r]ename: n\n",
            "rm: cannot remove '*.zip.': No such file or directory\n"
          ]
        }
      ]
    },
    {
      "cell_type": "code",
      "source": [
        "import pandas as pd\n",
        "import numpy as np\n",
        "import matplotlib.pyplot as plt\n",
        "\n",
        "true = pd.read_csv('True.csv')\n",
        "fake = pd.read_csv('Fake.csv')\n",
        "true.head(3)"
      ],
      "metadata": {
        "id": "EBJqL3_k2hJj",
        "colab": {
          "base_uri": "https://localhost:8080/",
          "height": 239
        },
        "outputId": "c47657e0-7cf5-4b2e-cb4e-1df50b9b6ea5"
      },
      "execution_count": null,
      "outputs": [
        {
          "output_type": "execute_result",
          "data": {
            "text/plain": [
              "                                               title  \\\n",
              "0  As U.S. budget fight looms, Republicans flip t...   \n",
              "1  U.S. military to accept transgender recruits o...   \n",
              "2  Senior U.S. Republican senator: 'Let Mr. Muell...   \n",
              "\n",
              "                                                text       subject  \\\n",
              "0  WASHINGTON (Reuters) - The head of a conservat...  politicsNews   \n",
              "1  WASHINGTON (Reuters) - Transgender people will...  politicsNews   \n",
              "2  WASHINGTON (Reuters) - The special counsel inv...  politicsNews   \n",
              "\n",
              "                 date  \n",
              "0  December 31, 2017   \n",
              "1  December 29, 2017   \n",
              "2  December 31, 2017   "
            ],
            "text/html": [
              "\n",
              "  <div id=\"df-88a79104-8757-4a63-adf5-ff64317768c0\">\n",
              "    <div class=\"colab-df-container\">\n",
              "      <div>\n",
              "<style scoped>\n",
              "    .dataframe tbody tr th:only-of-type {\n",
              "        vertical-align: middle;\n",
              "    }\n",
              "\n",
              "    .dataframe tbody tr th {\n",
              "        vertical-align: top;\n",
              "    }\n",
              "\n",
              "    .dataframe thead th {\n",
              "        text-align: right;\n",
              "    }\n",
              "</style>\n",
              "<table border=\"1\" class=\"dataframe\">\n",
              "  <thead>\n",
              "    <tr style=\"text-align: right;\">\n",
              "      <th></th>\n",
              "      <th>title</th>\n",
              "      <th>text</th>\n",
              "      <th>subject</th>\n",
              "      <th>date</th>\n",
              "    </tr>\n",
              "  </thead>\n",
              "  <tbody>\n",
              "    <tr>\n",
              "      <th>0</th>\n",
              "      <td>As U.S. budget fight looms, Republicans flip t...</td>\n",
              "      <td>WASHINGTON (Reuters) - The head of a conservat...</td>\n",
              "      <td>politicsNews</td>\n",
              "      <td>December 31, 2017</td>\n",
              "    </tr>\n",
              "    <tr>\n",
              "      <th>1</th>\n",
              "      <td>U.S. military to accept transgender recruits o...</td>\n",
              "      <td>WASHINGTON (Reuters) - Transgender people will...</td>\n",
              "      <td>politicsNews</td>\n",
              "      <td>December 29, 2017</td>\n",
              "    </tr>\n",
              "    <tr>\n",
              "      <th>2</th>\n",
              "      <td>Senior U.S. Republican senator: 'Let Mr. Muell...</td>\n",
              "      <td>WASHINGTON (Reuters) - The special counsel inv...</td>\n",
              "      <td>politicsNews</td>\n",
              "      <td>December 31, 2017</td>\n",
              "    </tr>\n",
              "  </tbody>\n",
              "</table>\n",
              "</div>\n",
              "      <button class=\"colab-df-convert\" onclick=\"convertToInteractive('df-88a79104-8757-4a63-adf5-ff64317768c0')\"\n",
              "              title=\"Convert this dataframe to an interactive table.\"\n",
              "              style=\"display:none;\">\n",
              "        \n",
              "  <svg xmlns=\"http://www.w3.org/2000/svg\" height=\"24px\"viewBox=\"0 0 24 24\"\n",
              "       width=\"24px\">\n",
              "    <path d=\"M0 0h24v24H0V0z\" fill=\"none\"/>\n",
              "    <path d=\"M18.56 5.44l.94 2.06.94-2.06 2.06-.94-2.06-.94-.94-2.06-.94 2.06-2.06.94zm-11 1L8.5 8.5l.94-2.06 2.06-.94-2.06-.94L8.5 2.5l-.94 2.06-2.06.94zm10 10l.94 2.06.94-2.06 2.06-.94-2.06-.94-.94-2.06-.94 2.06-2.06.94z\"/><path d=\"M17.41 7.96l-1.37-1.37c-.4-.4-.92-.59-1.43-.59-.52 0-1.04.2-1.43.59L10.3 9.45l-7.72 7.72c-.78.78-.78 2.05 0 2.83L4 21.41c.39.39.9.59 1.41.59.51 0 1.02-.2 1.41-.59l7.78-7.78 2.81-2.81c.8-.78.8-2.07 0-2.86zM5.41 20L4 18.59l7.72-7.72 1.47 1.35L5.41 20z\"/>\n",
              "  </svg>\n",
              "      </button>\n",
              "      \n",
              "  <style>\n",
              "    .colab-df-container {\n",
              "      display:flex;\n",
              "      flex-wrap:wrap;\n",
              "      gap: 12px;\n",
              "    }\n",
              "\n",
              "    .colab-df-convert {\n",
              "      background-color: #E8F0FE;\n",
              "      border: none;\n",
              "      border-radius: 50%;\n",
              "      cursor: pointer;\n",
              "      display: none;\n",
              "      fill: #1967D2;\n",
              "      height: 32px;\n",
              "      padding: 0 0 0 0;\n",
              "      width: 32px;\n",
              "    }\n",
              "\n",
              "    .colab-df-convert:hover {\n",
              "      background-color: #E2EBFA;\n",
              "      box-shadow: 0px 1px 2px rgba(60, 64, 67, 0.3), 0px 1px 3px 1px rgba(60, 64, 67, 0.15);\n",
              "      fill: #174EA6;\n",
              "    }\n",
              "\n",
              "    [theme=dark] .colab-df-convert {\n",
              "      background-color: #3B4455;\n",
              "      fill: #D2E3FC;\n",
              "    }\n",
              "\n",
              "    [theme=dark] .colab-df-convert:hover {\n",
              "      background-color: #434B5C;\n",
              "      box-shadow: 0px 1px 3px 1px rgba(0, 0, 0, 0.15);\n",
              "      filter: drop-shadow(0px 1px 2px rgba(0, 0, 0, 0.3));\n",
              "      fill: #FFFFFF;\n",
              "    }\n",
              "  </style>\n",
              "\n",
              "      <script>\n",
              "        const buttonEl =\n",
              "          document.querySelector('#df-88a79104-8757-4a63-adf5-ff64317768c0 button.colab-df-convert');\n",
              "        buttonEl.style.display =\n",
              "          google.colab.kernel.accessAllowed ? 'block' : 'none';\n",
              "\n",
              "        async function convertToInteractive(key) {\n",
              "          const element = document.querySelector('#df-88a79104-8757-4a63-adf5-ff64317768c0');\n",
              "          const dataTable =\n",
              "            await google.colab.kernel.invokeFunction('convertToInteractive',\n",
              "                                                     [key], {});\n",
              "          if (!dataTable) return;\n",
              "\n",
              "          const docLinkHtml = 'Like what you see? Visit the ' +\n",
              "            '<a target=\"_blank\" href=https://colab.research.google.com/notebooks/data_table.ipynb>data table notebook</a>'\n",
              "            + ' to learn more about interactive tables.';\n",
              "          element.innerHTML = '';\n",
              "          dataTable['output_type'] = 'display_data';\n",
              "          await google.colab.output.renderOutput(dataTable, element);\n",
              "          const docLink = document.createElement('div');\n",
              "          docLink.innerHTML = docLinkHtml;\n",
              "          element.appendChild(docLink);\n",
              "        }\n",
              "      </script>\n",
              "    </div>\n",
              "  </div>\n",
              "  "
            ]
          },
          "metadata": {},
          "execution_count": 7
        }
      ]
    },
    {
      "cell_type": "code",
      "source": [
        "true['label'] = 1\n",
        "fake['label'] = 0"
      ],
      "metadata": {
        "id": "KTmuzySB2wjh"
      },
      "execution_count": null,
      "outputs": []
    },
    {
      "cell_type": "code",
      "source": [
        "# Combine the sub-datasets in one.\n",
        "frames = [true.loc[:5000][:], fake.loc[:5000][:]]\n",
        "df = pd.concat(frames)\n",
        "df.tail()"
      ],
      "metadata": {
        "id": "3pI0g5Uz2y7y",
        "colab": {
          "base_uri": "https://localhost:8080/",
          "height": 354
        },
        "outputId": "bdeea9e5-fe91-4eb7-d442-338d97a519c1"
      },
      "execution_count": null,
      "outputs": [
        {
          "output_type": "execute_result",
          "data": {
            "text/plain": [
              "                                                  title  \\\n",
              "4996   Justice Department Announces It Will No Longe...   \n",
              "4997   WATCH: S.E. Cupp Destroys Trump Adviser’s ‘Fa...   \n",
              "4998   WATCH: Fox Hosts Claim Hillary Has Brain Dama...   \n",
              "4999   CNN Panelist LAUGHS In Corey Lewandowski’s Fa...   \n",
              "5000   Trump Supporter Who Wants To Shoot Black Kids...   \n",
              "\n",
              "                                                   text subject  \\\n",
              "4996  Republicans are about to lose a huge source of...    News   \n",
              "4997  A pawn working for Donald Trump claimed that w...    News   \n",
              "4998  Fox News is desperate to sabotage Hillary Clin...    News   \n",
              "4999  As Donald Trump s campaign continues to sink d...    News   \n",
              "5000  Hi folks, John Harper here, at least if you as...    News   \n",
              "\n",
              "                 date  label  \n",
              "4996  August 18, 2016      0  \n",
              "4997  August 18, 2016      0  \n",
              "4998  August 18, 2016      0  \n",
              "4999  August 18, 2016      0  \n",
              "5000  August 18, 2016      0  "
            ],
            "text/html": [
              "\n",
              "  <div id=\"df-16ec67a4-44ab-4a80-854f-490ea4128a02\">\n",
              "    <div class=\"colab-df-container\">\n",
              "      <div>\n",
              "<style scoped>\n",
              "    .dataframe tbody tr th:only-of-type {\n",
              "        vertical-align: middle;\n",
              "    }\n",
              "\n",
              "    .dataframe tbody tr th {\n",
              "        vertical-align: top;\n",
              "    }\n",
              "\n",
              "    .dataframe thead th {\n",
              "        text-align: right;\n",
              "    }\n",
              "</style>\n",
              "<table border=\"1\" class=\"dataframe\">\n",
              "  <thead>\n",
              "    <tr style=\"text-align: right;\">\n",
              "      <th></th>\n",
              "      <th>title</th>\n",
              "      <th>text</th>\n",
              "      <th>subject</th>\n",
              "      <th>date</th>\n",
              "      <th>label</th>\n",
              "    </tr>\n",
              "  </thead>\n",
              "  <tbody>\n",
              "    <tr>\n",
              "      <th>4996</th>\n",
              "      <td>Justice Department Announces It Will No Longe...</td>\n",
              "      <td>Republicans are about to lose a huge source of...</td>\n",
              "      <td>News</td>\n",
              "      <td>August 18, 2016</td>\n",
              "      <td>0</td>\n",
              "    </tr>\n",
              "    <tr>\n",
              "      <th>4997</th>\n",
              "      <td>WATCH: S.E. Cupp Destroys Trump Adviser’s ‘Fa...</td>\n",
              "      <td>A pawn working for Donald Trump claimed that w...</td>\n",
              "      <td>News</td>\n",
              "      <td>August 18, 2016</td>\n",
              "      <td>0</td>\n",
              "    </tr>\n",
              "    <tr>\n",
              "      <th>4998</th>\n",
              "      <td>WATCH: Fox Hosts Claim Hillary Has Brain Dama...</td>\n",
              "      <td>Fox News is desperate to sabotage Hillary Clin...</td>\n",
              "      <td>News</td>\n",
              "      <td>August 18, 2016</td>\n",
              "      <td>0</td>\n",
              "    </tr>\n",
              "    <tr>\n",
              "      <th>4999</th>\n",
              "      <td>CNN Panelist LAUGHS In Corey Lewandowski’s Fa...</td>\n",
              "      <td>As Donald Trump s campaign continues to sink d...</td>\n",
              "      <td>News</td>\n",
              "      <td>August 18, 2016</td>\n",
              "      <td>0</td>\n",
              "    </tr>\n",
              "    <tr>\n",
              "      <th>5000</th>\n",
              "      <td>Trump Supporter Who Wants To Shoot Black Kids...</td>\n",
              "      <td>Hi folks, John Harper here, at least if you as...</td>\n",
              "      <td>News</td>\n",
              "      <td>August 18, 2016</td>\n",
              "      <td>0</td>\n",
              "    </tr>\n",
              "  </tbody>\n",
              "</table>\n",
              "</div>\n",
              "      <button class=\"colab-df-convert\" onclick=\"convertToInteractive('df-16ec67a4-44ab-4a80-854f-490ea4128a02')\"\n",
              "              title=\"Convert this dataframe to an interactive table.\"\n",
              "              style=\"display:none;\">\n",
              "        \n",
              "  <svg xmlns=\"http://www.w3.org/2000/svg\" height=\"24px\"viewBox=\"0 0 24 24\"\n",
              "       width=\"24px\">\n",
              "    <path d=\"M0 0h24v24H0V0z\" fill=\"none\"/>\n",
              "    <path d=\"M18.56 5.44l.94 2.06.94-2.06 2.06-.94-2.06-.94-.94-2.06-.94 2.06-2.06.94zm-11 1L8.5 8.5l.94-2.06 2.06-.94-2.06-.94L8.5 2.5l-.94 2.06-2.06.94zm10 10l.94 2.06.94-2.06 2.06-.94-2.06-.94-.94-2.06-.94 2.06-2.06.94z\"/><path d=\"M17.41 7.96l-1.37-1.37c-.4-.4-.92-.59-1.43-.59-.52 0-1.04.2-1.43.59L10.3 9.45l-7.72 7.72c-.78.78-.78 2.05 0 2.83L4 21.41c.39.39.9.59 1.41.59.51 0 1.02-.2 1.41-.59l7.78-7.78 2.81-2.81c.8-.78.8-2.07 0-2.86zM5.41 20L4 18.59l7.72-7.72 1.47 1.35L5.41 20z\"/>\n",
              "  </svg>\n",
              "      </button>\n",
              "      \n",
              "  <style>\n",
              "    .colab-df-container {\n",
              "      display:flex;\n",
              "      flex-wrap:wrap;\n",
              "      gap: 12px;\n",
              "    }\n",
              "\n",
              "    .colab-df-convert {\n",
              "      background-color: #E8F0FE;\n",
              "      border: none;\n",
              "      border-radius: 50%;\n",
              "      cursor: pointer;\n",
              "      display: none;\n",
              "      fill: #1967D2;\n",
              "      height: 32px;\n",
              "      padding: 0 0 0 0;\n",
              "      width: 32px;\n",
              "    }\n",
              "\n",
              "    .colab-df-convert:hover {\n",
              "      background-color: #E2EBFA;\n",
              "      box-shadow: 0px 1px 2px rgba(60, 64, 67, 0.3), 0px 1px 3px 1px rgba(60, 64, 67, 0.15);\n",
              "      fill: #174EA6;\n",
              "    }\n",
              "\n",
              "    [theme=dark] .colab-df-convert {\n",
              "      background-color: #3B4455;\n",
              "      fill: #D2E3FC;\n",
              "    }\n",
              "\n",
              "    [theme=dark] .colab-df-convert:hover {\n",
              "      background-color: #434B5C;\n",
              "      box-shadow: 0px 1px 3px 1px rgba(0, 0, 0, 0.15);\n",
              "      filter: drop-shadow(0px 1px 2px rgba(0, 0, 0, 0.3));\n",
              "      fill: #FFFFFF;\n",
              "    }\n",
              "  </style>\n",
              "\n",
              "      <script>\n",
              "        const buttonEl =\n",
              "          document.querySelector('#df-16ec67a4-44ab-4a80-854f-490ea4128a02 button.colab-df-convert');\n",
              "        buttonEl.style.display =\n",
              "          google.colab.kernel.accessAllowed ? 'block' : 'none';\n",
              "\n",
              "        async function convertToInteractive(key) {\n",
              "          const element = document.querySelector('#df-16ec67a4-44ab-4a80-854f-490ea4128a02');\n",
              "          const dataTable =\n",
              "            await google.colab.kernel.invokeFunction('convertToInteractive',\n",
              "                                                     [key], {});\n",
              "          if (!dataTable) return;\n",
              "\n",
              "          const docLinkHtml = 'Like what you see? Visit the ' +\n",
              "            '<a target=\"_blank\" href=https://colab.research.google.com/notebooks/data_table.ipynb>data table notebook</a>'\n",
              "            + ' to learn more about interactive tables.';\n",
              "          element.innerHTML = '';\n",
              "          dataTable['output_type'] = 'display_data';\n",
              "          await google.colab.output.renderOutput(dataTable, element);\n",
              "          const docLink = document.createElement('div');\n",
              "          docLink.innerHTML = docLinkHtml;\n",
              "          element.appendChild(docLink);\n",
              "        }\n",
              "      </script>\n",
              "    </div>\n",
              "  </div>\n",
              "  "
            ]
          },
          "metadata": {},
          "execution_count": 9
        }
      ]
    },
    {
      "cell_type": "code",
      "source": [
        "X = df.drop('label', axis=1) \n",
        "y = df['label']\n",
        "# Delete missing data\n",
        "df = df.dropna()\n",
        "df2 = df.copy()\n",
        "df2.reset_index(inplace=True)"
      ],
      "metadata": {
        "id": "3J8lwCIn25_O"
      },
      "execution_count": null,
      "outputs": []
    },
    {
      "cell_type": "code",
      "source": [
        "from nltk.corpus import stopwords\n",
        "from nltk.stem.porter import PorterStemmer\n",
        "import re\n",
        "import nltk\n",
        "nltk.download('stopwords')\n",
        "ps = PorterStemmer()\n",
        "corpus = []\n",
        "for i in range(0, len(df2)):\n",
        "    review = re.sub('[^a-zA-Z]', ' ', df2['text'][i])\n",
        "    review = review.lower()\n",
        "    review = review.split()\n",
        "    \n",
        "    review = [ps.stem(word) for word in review if not word in stopwords.words('english')]\n",
        "    review = ' '.join(review)\n",
        "    corpus.append(review)\n"
      ],
      "metadata": {
        "id": "IJjcbOSc2793",
        "colab": {
          "base_uri": "https://localhost:8080/"
        },
        "outputId": "41443a6c-0e04-4274-9551-080971687ad0"
      },
      "execution_count": null,
      "outputs": [
        {
          "output_type": "stream",
          "name": "stderr",
          "text": [
            "[nltk_data] Downloading package stopwords to /root/nltk_data...\n",
            "[nltk_data]   Unzipping corpora/stopwords.zip.\n"
          ]
        }
      ]
    },
    {
      "cell_type": "code",
      "source": [
        "from sklearn.feature_extraction.text import TfidfVectorizer\n",
        "tfidf_v = TfidfVectorizer(max_features=5000, ngram_range=(1,3))\n",
        "X = tfidf_v.fit_transform(corpus).toarray()\n",
        "y = df2['label']"
      ],
      "metadata": {
        "id": "1_-Z99sO3F4W"
      },
      "execution_count": null,
      "outputs": []
    },
    {
      "cell_type": "code",
      "source": [
        "from sklearn.model_selection import train_test_split\n",
        "X_train, X_test, y_train, y_test = train_test_split(X, y, test_size=0.2, random_state=0)"
      ],
      "metadata": {
        "id": "xWhuGCSu3HIz"
      },
      "execution_count": null,
      "outputs": []
    },
    {
      "cell_type": "code",
      "source": [
        "from sklearn.linear_model import PassiveAggressiveClassifier\n",
        "from sklearn import metrics\n",
        "import numpy as np\n",
        "import itertools\n",
        "classifier = PassiveAggressiveClassifier(max_iter=1000)\n",
        "classifier.fit(X_train, y_train)\n",
        "pred = classifier.predict(X_test)\n",
        "score = metrics.accuracy_score(y_test, pred)\n",
        "print(\"accuracy:   %0.3f\" % score)\n",
        "print(pred)"
      ],
      "metadata": {
        "id": "v1Ms3VMa3HKf",
        "colab": {
          "base_uri": "https://localhost:8080/"
        },
        "outputId": "5b1ff46e-eddf-44a0-9f19-fbd14c1ba7d9"
      },
      "execution_count": null,
      "outputs": [
        {
          "output_type": "stream",
          "name": "stdout",
          "text": [
            "accuracy:   0.998\n",
            "[0 1 1 ... 1 0 0]\n"
          ]
        }
      ]
    },
    {
      "cell_type": "code",
      "source": [
        "from sklearn.model_selection import KFold, cross_val_score\n",
        "\n",
        "def validate(model):\n",
        "  cv = KFold(n_splits=5, shuffle=True, random_state=0)\n",
        "  scores = cross_val_score(model, X, y, cv=cv, scoring='accuracy')\n",
        "  return round(np.mean(scores), 3)\n",
        "scores_passiveAggressive = validate(classifier)\n",
        "print(scores_passiveAggressive)\n"
      ],
      "metadata": {
        "id": "KiIHJ4F0VAn1",
        "colab": {
          "base_uri": "https://localhost:8080/"
        },
        "outputId": "f25cc3e2-ef2e-4a2d-ede2-3e0291dadfc1"
      },
      "execution_count": null,
      "outputs": [
        {
          "output_type": "stream",
          "name": "stdout",
          "text": [
            "0.999\n"
          ]
        }
      ]
    },
    {
      "cell_type": "code",
      "source": [
        "from sklearn import svm\n",
        "from sklearn.linear_model import LinearRegression\n",
        "from sklearn.linear_model import Lasso\n",
        "from sklearn.linear_model import ARDRegression\n",
        "from sklearn.metrics import mean_squared_error\n",
        "from sklearn.metrics import r2_score\n",
        "from sklearn.naive_bayes import GaussianNB\n",
        "from sklearn.naive_bayes import MultinomialNB\n",
        "from sklearn.naive_bayes import ComplementNB\n",
        "from sklearn.naive_bayes import BernoulliNB\n",
        "from sklearn.naive_bayes import CategoricalNB\n",
        "from sklearn.tree import DecisionTreeClassifier, DecisionTreeRegressor\n",
        "import statsmodels.api as sm"
      ],
      "metadata": {
        "id": "-ViWC5Mhj9qd"
      },
      "execution_count": null,
      "outputs": []
    },
    {
      "cell_type": "code",
      "source": [
        "#SVC model\n",
        "clfSVC = svm.SVC()\n",
        "clfSVC.fit(X_train, y_train)\n",
        "pred_SVC = clfSVC.predict(X_test)"
      ],
      "metadata": {
        "id": "VxN9GDK55vEK"
      },
      "execution_count": null,
      "outputs": []
    },
    {
      "cell_type": "code",
      "source": [
        "#Linear Regression model\n",
        "lr = LinearRegression()\n",
        "lr.fit(X_train, y_train)\n",
        "pred_lr = lr.predict(X_test)"
      ],
      "metadata": {
        "id": "eZah6Z165xKF"
      },
      "execution_count": null,
      "outputs": []
    },
    {
      "cell_type": "code",
      "source": [
        "#Lasso model\n",
        "model_lasso = Lasso(alpha=0.1)\n",
        "model_lasso.fit(X_train, y_train) \n",
        "y_lasso = model_lasso.predict(X_train)\n",
        "\n",
        "params = [.01, .1, 1, 10, 100]\n",
        "lr = LinearRegression()\n",
        "\n",
        "lr.fit(X_train, y_lasso)\n",
        "pred_train_lasso = lr.predict(X_test)\n",
        "results = []\n",
        "\n",
        "print(results)"
      ],
      "metadata": {
        "id": "qiZhGiGq502H",
        "outputId": "1f080386-09fe-4bdd-8e45-c8223ea0812a",
        "colab": {
          "base_uri": "https://localhost:8080/"
        }
      },
      "execution_count": null,
      "outputs": [
        {
          "output_type": "stream",
          "name": "stdout",
          "text": [
            "[]\n"
          ]
        }
      ]
    },
    {
      "cell_type": "code",
      "source": [
        "#GaussianNB model\n",
        "gnb = GaussianNB()\n",
        "gnb.fit(X_train, y_train)\n",
        "pred_train_gnb = gnb.predict(X_test)"
      ],
      "metadata": {
        "id": "sqeH05LC55gt"
      },
      "execution_count": null,
      "outputs": []
    },
    {
      "cell_type": "code",
      "source": [
        "#MultinomialNB model\n",
        "mnb = MultinomialNB()\n",
        "mnb.fit(X_train, y_train)\n",
        "pred_train_mnb = mnb.predict(X_test)"
      ],
      "metadata": {
        "id": "nMkVuSe458jm"
      },
      "execution_count": null,
      "outputs": []
    },
    {
      "cell_type": "code",
      "source": [
        "#ComplementNB model\n",
        "cnb = ComplementNB()\n",
        "cnb.fit(X_train, y_train)\n",
        "pred_train_cnb = cnb.predict(X_test)"
      ],
      "metadata": {
        "id": "l128rJZT7hnr"
      },
      "execution_count": null,
      "outputs": []
    },
    {
      "cell_type": "code",
      "source": [
        "#BernoulliNB model\n",
        "bnb = BernoulliNB()\n",
        "bnb.fit(X_train, y_train)\n",
        "pred_train_bnb = bnb.predict(X_test)"
      ],
      "metadata": {
        "id": "PsBJhlUR7mAg"
      },
      "execution_count": null,
      "outputs": []
    },
    {
      "cell_type": "code",
      "source": [
        "#CategoricalNB model\n",
        "catnb = CategoricalNB()\n",
        "catnb.fit(X_train, y_train)\n",
        "pred_train_catnb = catnb.predict(X_test)"
      ],
      "metadata": {
        "id": "FpDReNsR7pNN"
      },
      "execution_count": null,
      "outputs": []
    },
    {
      "cell_type": "code",
      "source": [
        "#DecisionTreeClassifier model\n",
        "clfDTC = DecisionTreeClassifier(max_depth=4)\n",
        "clfDTC.fit(X_train, y_train)\n",
        "pred_train_DTC = clfDTC.predict(X_test)\n",
        "print(validate(clfDTC))\n"
      ],
      "metadata": {
        "id": "SRSerM9m7qoI",
        "outputId": "c2d435e8-8ea7-4f76-a5e6-029e7bedc595",
        "colab": {
          "base_uri": "https://localhost:8080/"
        }
      },
      "execution_count": null,
      "outputs": [
        {
          "output_type": "stream",
          "name": "stdout",
          "text": [
            "0.999\n"
          ]
        }
      ]
    },
    {
      "cell_type": "code",
      "source": [
        "print(\"PassiveAggresive Classifer\")\n",
        "print(mean_squared_error(y_test, pred))\n",
        "print(r2_score(y_test.values, pred))\n",
        "print(\"SVM\")\n",
        "print(mean_squared_error(y_test, pred_SVC))\n",
        "print(r2_score(y_test.values, pred_SVC))\n",
        "print(\"Linear Regression\")\n",
        "print(mean_squared_error(y_test, pred_lr))\n",
        "print(r2_score(y_test.values, pred_lr))\n",
        "print(\"LASSO Linear Regression\")\n",
        "print(mean_squared_error(y_test, pred_train_lasso))\n",
        "print(r2_score(y_test.values, pred_train_lasso))\n",
        "print(\"GaussianNB\")\n",
        "print(mean_squared_error(y_test, pred_train_gnb))\n",
        "print(r2_score(y_test.values, pred_train_gnb))\n",
        "print(\"MultinomialNB\")\n",
        "print(mean_squared_error(y_test, pred_train_mnb))\n",
        "print(r2_score(y_test.values, pred_train_mnb))\n",
        "print(\"ComplementNB\")\n",
        "print(mean_squared_error(y_test, pred_train_cnb))\n",
        "print(r2_score(y_test.values, pred_train_cnb))\n",
        "print(\"BernoulliNB\")\n",
        "print(mean_squared_error(y_test, pred_train_bnb))\n",
        "print(r2_score(y_test.values, pred_train_bnb))\n",
        "print(\"CategoricalNB\")\n",
        "print(mean_squared_error(y_test, pred_train_catnb))\n",
        "print(r2_score(y_test.values, pred_train_catnb))\n",
        "print(\"DecisionTreeClassifier\")\n",
        "print(mean_squared_error(y_test, pred_train_DTC))\n",
        "print(r2_score(y_test.values, pred_train_DTC))\n"
      ],
      "metadata": {
        "id": "2oS-P-iMzsmg",
        "outputId": "bb308dc0-090d-46a0-8e78-ccb9a5f09df3",
        "colab": {
          "base_uri": "https://localhost:8080/"
        }
      },
      "execution_count": null,
      "outputs": [
        {
          "output_type": "stream",
          "name": "stdout",
          "text": [
            "PassiveAggresive Classifer\n",
            "0.001999000499750125\n",
            "0.9920009594051687\n",
            "SVM\n",
            "0.001999000499750125\n",
            "0.9920009594051687\n",
            "Linear Regression\n",
            "4.615896963248521e+17\n",
            "-1.8470604282089144e+18\n",
            "LASSO Linear Regression\n",
            "0.2500537416902354\n",
            "-0.0005950628424817861\n",
            "GaussianNB\n",
            "0.010994502748625687\n",
            "0.9560052767284284\n",
            "MultinomialNB\n",
            "0.02798600699650175\n",
            "0.8880134316723631\n",
            "ComplementNB\n",
            "0.02798600699650175\n",
            "0.8880134316723631\n",
            "BernoulliNB\n",
            "0.005997001499250375\n",
            "0.9760028782155064\n",
            "CategoricalNB\n",
            "0.5097451274362819\n",
            "-1.0397553516819569\n",
            "DecisionTreeClassifier\n",
            "0.0009995002498750624\n",
            "0.9960004797025844\n"
          ]
        }
      ]
    },
    {
      "cell_type": "code",
      "source": [
        "def plot_confusion_matrix(cm, classes,\n",
        "                          normalize=False,\n",
        "                          title='Confusion matrix',\n",
        "                          cmap=plt.cm.Blues):\n",
        "  \n",
        "    plt.imshow(cm, interpolation='nearest', cmap=cmap)\n",
        "    plt.title(title)\n",
        "    plt.colorbar()\n",
        "    tick_marks = np.arange(len(classes))\n",
        "    plt.xticks(tick_marks, classes, rotation=45)\n",
        "    plt.yticks(tick_marks, classes)\n",
        "\n",
        "    if normalize:\n",
        "        cm = cm.astype('float') / cm.sum(axis=1)[:, np.newaxis]\n",
        "        print(\"Normalized confusion matrix\")\n",
        "    else:\n",
        "        print('Confusion matrix, without normalization')\n",
        "\n",
        "    thresh = cm.max() / 2.\n",
        "    for i, j in itertools.product(range(cm.shape[0]), range(cm.shape[1])):\n",
        "        plt.text(j, i, cm[i, j],\n",
        "                 horizontalalignment=\"center\",\n",
        "                 color=\"white\" if cm[i, j] > thresh else \"black\")\n",
        "\n",
        "    plt.tight_layout()\n",
        "    plt.ylabel('True label')\n",
        "    plt.xlabel('Predicted label')\n",
        "cm = metrics.confusion_matrix(y_test, pred)\n",
        "plot_confusion_matrix(cm, classes=['FAKE', 'REAL'])\n"
      ],
      "metadata": {
        "id": "qBMNHQUe3L-S",
        "colab": {
          "base_uri": "https://localhost:8080/",
          "height": 328
        },
        "outputId": "99900a3b-8bf3-4c50-f144-284b3ae0bbb8"
      },
      "execution_count": null,
      "outputs": [
        {
          "output_type": "stream",
          "name": "stdout",
          "text": [
            "Confusion matrix, without normalization\n"
          ]
        },
        {
          "output_type": "display_data",
          "data": {
            "text/plain": [
              "<Figure size 432x288 with 2 Axes>"
            ],
            "image/png": "[encoded data removed]"
          },
          "metadata": {
            "needs_background": "light"
          }
        }
      ]
    },
    {
      "cell_type": "code",
      "source": [
        "print(\"BNB\")\n",
        "cm = metrics.confusion_matrix(y_test, pred_train_bnb)\n",
        "plot_confusion_matrix(cm, classes=['FAKE', 'REAL'])\n",
        "\n",
        "#cm = metrics.confusion_matrix(y_test, pred_lr)\n",
        "#plot_confusion_matrix(cm, classes=['FAKE', 'REAL'])\n",
        "#print(\"LASSO Linear Regression\")\n",
        "#cm = metrics.confusion_matrix(y_test, pred_train_lasso)\n",
        "#plot_confusion_matrix(cm, classes=['FAKE', 'REAL'])\n",
        "\n",
        "#print(\"BernoulliNB\")\n",
        "#print(mean_squared_error(y_test, pred_train_bnb))\n",
        "#cm = metrics.confusion_matrix(y_test, pred_SVC)\n",
        "#plot_confusion_matrix(cm, classes=['FAKE', 'REAL'])\n",
        "\n",
        "#print(\"CategoricalNB\")\n",
        "#print(mean_squared_error(y_test, pred_train_DTC))\n",
        "#cm = metrics.confusion_matrix(y_test, pred_SVC)\n",
        "#plot_confusion_matrix(cm, classes=['FAKE', 'REAL'])\n"
      ],
      "metadata": {
        "id": "iSdPyoawL3sH",
        "outputId": "9f42d6a1-126b-4c82-8086-1c974b936bde",
        "colab": {
          "base_uri": "https://localhost:8080/",
          "height": 346
        }
      },
      "execution_count": null,
      "outputs": [
        {
          "output_type": "stream",
          "name": "stdout",
          "text": [
            "BNB\n",
            "Confusion matrix, without normalization\n"
          ]
        },
        {
          "output_type": "display_data",
          "data": {
            "text/plain": [
              "<Figure size 432x288 with 2 Axes>"
            ],
            "image/png": "[encoded data removed]"
          },
          "metadata": {
            "needs_background": "light"
          }
        }
      ]
    },
    {
      "cell_type": "code",
      "source": [
        "print(\"DTC\")\n",
        "cm = metrics.confusion_matrix(y_test, pred_train_DTC)\n",
        "plot_confusion_matrix(cm, classes=['FAKE', 'REAL'])"
      ],
      "metadata": {
        "colab": {
          "base_uri": "https://localhost:8080/",
          "height": 346
        },
        "id": "d91izY_OrPr-",
        "outputId": "f241667a-2dbf-47d3-acd2-a839a3133770"
      },
      "execution_count": null,
      "outputs": [
        {
          "output_type": "stream",
          "name": "stdout",
          "text": [
            "DTC\n",
            "Confusion matrix, without normalization\n"
          ]
        },
        {
          "output_type": "display_data",
          "data": {
            "text/plain": [
              "<Figure size 432x288 with 2 Axes>"
            ],
            "image/png": "[encoded data removed]"
          },
          "metadata": {
            "needs_background": "light"
          }
        }
      ]
    },
    {
      "cell_type": "code",
      "source": [
        "# Tokenization\n",
        "review = re.sub('[^a-zA-Z]', ' ', fake['text'][13070])\n",
        "review = review.lower()\n",
        "review = review.split() \n",
        "review = [ps.stem(word) for word in review if not word in stopwords.words('english')]\n",
        "review = ' '.join(review)\n",
        "# Vectorization\n",
        "val = tfidf_v.transform([review]).toarray()\n",
        "# Predict \n",
        "classifier.predict(val)\n",
        "\n",
        "lr.predict(val)\n",
        "#Bayes\n",
        "#SVC\n",
        "#Decision Tree\n"
      ],
      "metadata": {
        "id": "JDXLrvxq3T5z",
        "colab": {
          "base_uri": "https://localhost:8080/"
        },
        "outputId": "b7f043f0-c99c-4b93-ddd9-57485d538d72"
      },
      "execution_count": null,
      "outputs": [
        {
          "output_type": "execute_result",
          "data": {
            "text/plain": [
              "array([0.5024372])"
            ]
          },
          "metadata": {},
          "execution_count": 29
        }
      ]
    },
    {
      "cell_type": "code",
      "source": [
        "import pickle\n",
        "pickle.dump(clfSVC, open('modelbnb.pkl', 'wb'))\n",
        "\n",
        "\n"
      ],
      "metadata": {
        "id": "yYtSysIC3WKG"
      },
      "execution_count": null,
      "outputs": []
    },
    {
      "cell_type": "code",
      "source": [
        "# Load model and vectorizer\n",
        "joblib_model = pickle.load(open('model2.pkl', 'rb'))\n",
        "joblib_vect = pickle.load(open('tfidfvect2.pkl', 'rb'))\n",
        "val_pkl = joblib_vect.transform([review]).toarray()\n",
        "joblib_model.predict(val_pkl)"
      ],
      "metadata": {
        "id": "tYKdSSQH3Xgu",
        "colab": {
          "base_uri": "https://localhost:8080/"
        },
        "outputId": "5bf147f1-e45c-47c6-b874-c04a606be3a9"
      },
      "execution_count": null,
      "outputs": [
        {
          "output_type": "execute_result",
          "data": {
            "text/plain": [
              "array([0])"
            ]
          },
          "metadata": {},
          "execution_count": 31
        }
      ]
    }
  ]
}