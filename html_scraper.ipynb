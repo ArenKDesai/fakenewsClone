{
 "cells": [
  {
   "cell_type": "code",
   "execution_count": 4,
   "metadata": {},
   "outputs": [
    {
     "name": "stdout",
     "output_type": "stream",
     "text": [
      "Requirement already satisfied: newspaper3k in c:\\users\\arenk\\anaconda3\\lib\\site-packages (0.2.8)\n",
      "Requirement already satisfied: beautifulsoup4>=4.4.1 in c:\\users\\arenk\\anaconda3\\lib\\site-packages (from newspaper3k) (4.9.1)\n",
      "Requirement already satisfied: PyYAML>=3.11 in c:\\users\\arenk\\anaconda3\\lib\\site-packages (from newspaper3k) (6.0)\n",
      "Requirement already satisfied: python-dateutil>=2.5.3 in c:\\users\\arenk\\anaconda3\\lib\\site-packages (from newspaper3k) (2.8.2)\n",
      "Requirement already satisfied: feedparser>=5.2.1 in c:\\users\\arenk\\anaconda3\\lib\\site-packages (from newspaper3k) (5.2.1)\n",
      "Requirement already satisfied: nltk>=3.2.1 in c:\\users\\arenk\\anaconda3\\lib\\site-packages (from newspaper3k) (3.6.5)\n",
      "Requirement already satisfied: requests>=2.10.0 in c:\\users\\arenk\\anaconda3\\lib\\site-packages (from newspaper3k) (2.24.0)\n",
      "Requirement already satisfied: tldextract>=2.0.1 in c:\\users\\arenk\\anaconda3\\lib\\site-packages (from newspaper3k) (3.4.0)\n",
      "Requirement already satisfied: lxml>=3.6.0 in c:\\users\\arenk\\anaconda3\\lib\\site-packages (from newspaper3k) (4.6.3)\n",
      "Requirement already satisfied: feedfinder2>=0.0.4 in c:\\users\\arenk\\anaconda3\\lib\\site-packages (from newspaper3k) (0.0.4)\n",
      "Requirement already satisfied: jieba3k>=0.35.1 in c:\\users\\arenk\\anaconda3\\lib\\site-packages (from newspaper3k) (0.35.1)\n",
      "Requirement already satisfied: cssselect>=0.9.2 in c:\\users\\arenk\\anaconda3\\lib\\site-packages (from newspaper3k) (1.2.0)\n",
      "Requirement already satisfied: Pillow>=3.3.0 in c:\\users\\arenk\\anaconda3\\lib\\site-packages (from newspaper3k) (8.4.0)\n",
      "Requirement already satisfied: tinysegmenter==0.3 in c:\\users\\arenk\\anaconda3\\lib\\site-packages (from newspaper3k) (0.3)\n",
      "Requirement already satisfied: soupsieve>1.2 in c:\\users\\arenk\\anaconda3\\lib\\site-packages (from beautifulsoup4>=4.4.1->newspaper3k) (2.2.1)\n",
      "Requirement already satisfied: six in c:\\users\\arenk\\anaconda3\\lib\\site-packages (from feedfinder2>=0.0.4->newspaper3k) (1.16.0)\n",
      "Requirement already satisfied: click in c:\\users\\arenk\\anaconda3\\lib\\site-packages (from nltk>=3.2.1->newspaper3k) (8.0.3)\n",
      "Requirement already satisfied: joblib in c:\\users\\arenk\\anaconda3\\lib\\site-packages (from nltk>=3.2.1->newspaper3k) (1.1.0)\n",
      "Requirement already satisfied: regex>=2021.8.3 in c:\\users\\arenk\\anaconda3\\lib\\site-packages (from nltk>=3.2.1->newspaper3k) (2021.8.3)\n",
      "Requirement already satisfied: tqdm in c:\\users\\arenk\\anaconda3\\lib\\site-packages (from nltk>=3.2.1->newspaper3k) (4.62.3)\n",
      "Requirement already satisfied: certifi>=2017.4.17 in c:\\users\\arenk\\anaconda3\\lib\\site-packages (from requests>=2.10.0->newspaper3k) (2021.10.8)\n",
      "Requirement already satisfied: urllib3!=1.25.0,!=1.25.1,<1.26,>=1.21.1 in c:\\users\\arenk\\anaconda3\\lib\\site-packages (from requests>=2.10.0->newspaper3k) (1.25.11)\n",
      "Requirement already satisfied: chardet<4,>=3.0.2 in c:\\users\\arenk\\anaconda3\\lib\\site-packages (from requests>=2.10.0->newspaper3k) (3.0.4)\n",
      "Requirement already satisfied: idna<3,>=2.5 in c:\\users\\arenk\\anaconda3\\lib\\site-packages (from requests>=2.10.0->newspaper3k) (2.10)\n",
      "Requirement already satisfied: requests-file>=1.4 in c:\\users\\arenk\\anaconda3\\lib\\site-packages (from tldextract>=2.0.1->newspaper3k) (1.5.1)\n",
      "Requirement already satisfied: filelock>=3.0.8 in c:\\users\\arenk\\anaconda3\\lib\\site-packages (from tldextract>=2.0.1->newspaper3k) (3.3.1)\n",
      "Requirement already satisfied: colorama in c:\\users\\arenk\\anaconda3\\lib\\site-packages (from click->nltk>=3.2.1->newspaper3k) (0.4.4)\n"
     ]
    }
   ],
   "source": [
    "! pip install newspaper3k"
   ]
  },
  {
   "cell_type": "code",
   "execution_count": 5,
   "metadata": {},
   "outputs": [
    {
     "ename": "SyntaxError",
     "evalue": "invalid syntax (feedparser.py, line 316)",
     "output_type": "error",
     "traceback": [
      "Traceback \u001b[1;36m(most recent call last)\u001b[0m:\n",
      "  File \u001b[0;32m\"c:\\Users\\arenk\\anaconda3\\lib\\site-packages\\IPython\\core\\interactiveshell.py\"\u001b[0m, line \u001b[0;32m3444\u001b[0m, in \u001b[0;35mrun_code\u001b[0m\n    exec(code_obj, self.user_global_ns, self.user_ns)\n",
      "  File \u001b[0;32m\"C:\\Users\\arenk\\AppData\\Local\\Temp/ipykernel_26600/2854925509.py\"\u001b[0m, line \u001b[0;32m4\u001b[0m, in \u001b[0;35m<module>\u001b[0m\n    import newspaper\n",
      "  File \u001b[0;32m\"c:\\Users\\arenk\\anaconda3\\lib\\site-packages\\newspaper\\__init__.py\"\u001b[0m, line \u001b[0;32m10\u001b[0m, in \u001b[0;35m<module>\u001b[0m\n    from .api import (build, build_article, fulltext, hot, languages,\n",
      "\u001b[1;36m  File \u001b[1;32m\"c:\\Users\\arenk\\anaconda3\\lib\\site-packages\\newspaper\\api.py\"\u001b[1;36m, line \u001b[1;32m12\u001b[1;36m, in \u001b[1;35m<module>\u001b[1;36m\u001b[0m\n\u001b[1;33m    import feedparser\u001b[0m\n",
      "\u001b[1;36m  File \u001b[1;32m\"c:\\Users\\arenk\\anaconda3\\lib\\site-packages\\feedparser.py\"\u001b[1;36m, line \u001b[1;32m316\u001b[0m\n\u001b[1;33m    raise KeyError, \"object doesn't have key 'category'\"\u001b[0m\n\u001b[1;37m                  ^\u001b[0m\n\u001b[1;31mSyntaxError\u001b[0m\u001b[1;31m:\u001b[0m invalid syntax\n"
     ]
    }
   ],
   "source": [
    "import requests\n",
    "import pandas as pd\n",
    "from bs4 import BeautifulSoup as bs\n",
    "import newspaper\n",
    "import json"
   ]
  },
  {
   "cell_type": "code",
   "execution_count": null,
   "metadata": {},
   "outputs": [],
   "source": [
    "# Taken from https://newscatcherapi.com/blog/python-web-scraping-libraries-to-mine-news-data\n",
    "url = 'https://www.christianitytoday.com/news/2023/february/chinese-pastors-sermons-news-monterey-park-preaching.html'\n",
    "  \n",
    "article = newspaper.Article(url=url, language='en')\n",
    "article.download()\n",
    "article.parse()\n",
    "\n",
    "article ={\n",
    "    \"title\": str(article.title),\n",
    "    \"text\": str(article.text),\n",
    "    \"authors\": article.authors,\n",
    "    \"published_date\": str(article.publish_date),\n",
    "    \"top_image\": str(article.top_image),\n",
    "    \"videos\": article.movies,\n",
    "    \"keywords\": article.keywords,\n",
    "    \"summary\": str(article.summary)\n",
    "}\n",
    "\n",
    "\n",
    "print(article['text'])"
   ]
  }
 ],
 "metadata": {
  "kernelspec": {
   "display_name": "base",
   "language": "python",
   "name": "python3"
  },
  "language_info": {
   "codemirror_mode": {
    "name": "ipython",
    "version": 3
   },
   "file_extension": ".py",
   "mimetype": "text/x-python",
   "name": "python",
   "nbconvert_exporter": "python",
   "pygments_lexer": "ipython3",
   "version": "3.9.7"
  },
  "orig_nbformat": 4,
  "vscode": {
   "interpreter": {
    "hash": "7b06207626621816bd052f46afc5663ea4ca84564429b858c12fdc5008f94f14"
   }
  }
 },
 "nbformat": 4,
 "nbformat_minor": 2
}
